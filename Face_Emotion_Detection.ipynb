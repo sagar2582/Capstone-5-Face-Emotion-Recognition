{
  "nbformat": 4,
  "nbformat_minor": 0,
  "metadata": {
    "colab": {
      "name": "Face Emotion Detection.ipynb",
      "provenance": [],
      "authorship_tag": "ABX9TyO96sYlo5sld40zeRtqRJap",
      "include_colab_link": true
    },
    "kernelspec": {
      "name": "python3",
      "display_name": "Python 3"
    },
    "language_info": {
      "name": "python"
    }
  },
  "cells": [
    {
      "cell_type": "markdown",
      "metadata": {
        "id": "view-in-github",
        "colab_type": "text"
      },
      "source": [
        "<a href=\"https://colab.research.google.com/github/sagar2582/Capstone-5-Face-Emotion-Recognition/blob/main/Face_Emotion_Detection.ipynb\" target=\"_parent\"><img src=\"https://colab.research.google.com/assets/colab-badge.svg\" alt=\"Open In Colab\"/></a>"
      ]
    },
    {
      "cell_type": "markdown",
      "source": [
        "#1.1 Introduction\n",
        "* The Indian education landscape has been undergoing rapid changes for the past 10 years owing to the advancement of web-based learning services, specifically, eLearning platforms.\n",
        "* Global E-learning is estimated to witness an 8X over the next 5 years to reach USD 2B in 2021. India\n",
        "is expected to grow with a CAGR of 44% crossing the 10M users mark in 2021. Although the market\n",
        "is growing on a rapid scale, there are major challenges associated with digital learning when\n",
        "compared with brick and mortar classrooms. One of many challenges is how to ensure quality\n",
        "learning for students. Digital platforms might overpower physical classrooms in terms of content\n",
        "quality but when it comes to understanding whether students are able to grasp the content in a live\n",
        "class scenario is yet an open-end challenge.\n",
        "* In a physical classroom during a lecturing teacher can see the faces and assess the emotion of the\n",
        "class and tune their lecture accordingly, whether he is going fast or slow. He can identify students who\n",
        "need special attention. Digital classrooms are conducted via video telephony software program (ex-\n",
        "Zoom) where it’s not possible for medium scale class (25-50) to see all students and access the\n",
        "mood. Because of this drawback, students are not focusing on content due to lack of surveillance.\n",
        "While digital platforms have limitations in terms of physical surveillance but it comes with the power of\n",
        "data and machines which can work for you. It provides data in the form of video, audio, and texts\n",
        "which can be analysed using deep learning algorithms. Deep learning backed system not only solves\n",
        "the surveillance issue, but it also removes the human bias from the system, and all information is no\n",
        "longer in the teacher’s brain rather translated in numbers that can be analysed and tracked."
      ],
      "metadata": {
        "id": "CKmpaBExFBDW"
      }
    },
    {
      "cell_type": "markdown",
      "source": [
        "# 1.2 Problem Statement\n",
        "We will solve the above-mentioned challenge by applying deep learning algorithms to live video data.\n",
        "The solution to this problem is by recognizing facial emotions.\n",
        "* 1.2.1 - **Face Emotion Recognition**\n",
        "> This is a few shot learning live face emotion detection system. The model should be able to real-time\n",
        "identify the emotions of students in a live class.\n",
        "\n"
      ],
      "metadata": {
        "id": "6HNChVP3FINI"
      }
    },
    {
      "cell_type": "markdown",
      "source": [
        "# 1.3 Scope of Project\n",
        "\n",
        "\n",
        "> A. Model should be able to identify students’ emotions using minimum reference images.\n",
        "\n",
        "> B. Model should work on the real-time webcam video feed.\n",
        "\n",
        "> C. Model must be deployed on AWS/GCP/Azure platform as an end-to-end solution.\n",
        "\n",
        "> D. Model must be accessible via a web application (Streamlit) for demo purposes.\n"
      ],
      "metadata": {
        "id": "_or-wWlUFLr3"
      }
    },
    {
      "cell_type": "markdown",
      "source": [
        "# Dataset Information\n",
        "The data comes from the past Kaggle competition “Challenges in Representation Learning: Facial Expression Recognition Challenge”. The faces have been automatically registered so that the face is more or less centered and occupies about the same amount of space in each image.\n",
        "\n",
        "This dataset contains 35887 grayscale 48x48 pixel face images.\n",
        "\n",
        "Each image corresponds to a facial expression in one of seven categories\n",
        "\n",
        "Labels:\n",
        "\n",
        "> 0 - Angry 😠\n",
        "\n",
        "> 1 - Disgust 😧\n",
        "\n",
        "> 2 - Fear 😨\n",
        "\n",
        "> 3 - Happy 😃\n",
        "\n",
        "> 4 - Sad 😞\n",
        "\n",
        "> 5 - Surprise 😮\n",
        "\n",
        "> 6 - Neutral 😐\n",
        "\n",
        "* Dataset link - https://www.kaggle.com/msambare/fer2013"
      ],
      "metadata": {
        "id": "yDTiT8VRFS4n"
      }
    },
    {
      "cell_type": "markdown",
      "source": [
        "# Using DeepFace\n",
        "> Deepface is a lightweight face recognition and facial attribute analysis (age, gender, emotion and race) framework for python.\n",
        "\n",
        "> The process of facial recognition starts with the human face and identifying its necessary facial features and patterns. A human face comprises a very basic set of features, such as eyes, nose, and mouth. Facial recognition technology learns what a face is and how it looks. This is done by using deep neural network & machine learning algorithms on a set of images with human faces looking at different angles or positions."
      ],
      "metadata": {
        "id": "v3NPQjGbFVkn"
      }
    },
    {
      "cell_type": "code",
      "source": [
        ""
      ],
      "metadata": {
        "id": "NQP16AuhFQ_f"
      },
      "execution_count": null,
      "outputs": []
    }
  ]
}